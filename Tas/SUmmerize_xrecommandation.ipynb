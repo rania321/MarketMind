version https://git-lfs.github.com/spec/v1
oid sha256:d38fc353a849b179abac9ee9aa5fae6e1f4f95a4d91194f3e73424d424fdc032
size 200711
