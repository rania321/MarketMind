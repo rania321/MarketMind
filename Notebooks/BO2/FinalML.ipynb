{
  "nbformat": 4,
  "nbformat_minor": 0,
  "metadata": {
    "colab": {
      "provenance": [],
      "gpuType": "T4"
    },
    "kernelspec": {
      "name": "python3",
      "display_name": "Python 3"
    },
    "language_info": {
      "name": "python"
    },
    "accelerator": "GPU"
  },
  "cells": [
    {
      "cell_type": "code",
      "execution_count": null,
      "metadata": {
        "id": "-I3tE-AHwkr7"
      },
      "outputs": [],
      "source": [
        "# Import necessary libraries\n",
        "import pandas as pd\n",
        "import numpy as np\n",
        "import matplotlib.pyplot as plt\n",
        "import seaborn as sns\n",
        "from sklearn.preprocessing import LabelEncoder, StandardScaler\n",
        "from sklearn.feature_selection import SelectKBest, f_classif\n",
        "from sklearn.model_selection import train_test_split\n",
        "from imblearn.over_sampling import SMOTE\n",
        "from scipy.stats import zscore, median_abs_deviation\n",
        "from sklearn.ensemble import IsolationForest\n",
        "from sklearn.neighbors import LocalOutlierFactor\n",
        "\n",
        "# Set random seed for reproducibility\n",
        "np.random.seed(42)"
      ]
    },
    {
      "cell_type": "markdown",
      "source": [
        "# 1. Data Acquisition"
      ],
      "metadata": {
        "id": "-U2Jd9ZTwxWj"
      }
    },
    {
      "cell_type": "code",
      "source": [
        "# Load the dataset with the correct encoding and delimiter\n",
        "df = pd.read_csv('small_businesses_enhanced1.csv', encoding='ISO-8859-1', delimiter=';')\n",
        "\n",
        "# Display the first few rows of the dataset\n",
        "print(\"First 5 rows of the dataset:\")\n",
        "print(df.head())\n",
        "\n",
        "# Display the column names\n",
        "print(\"\\nColumn names:\")\n",
        "print(df.columns)"
      ],
      "metadata": {
        "id": "foNx30wVw1H4",
        "outputId": "b747faf1-66a4-4958-8e2b-fc22d738b816",
        "colab": {
          "base_uri": "https://localhost:8080/"
        }
      },
      "execution_count": null,
      "outputs": [
        {
          "output_type": "stream",
          "name": "stdout",
          "text": [
            "First 5 rows of the dataset:\n",
            "               Business Name                            Business Description  \\\n",
            "0               Davidson LLC                        Balanced 24/7 throughput   \n",
            "1                 Hill Group                   Networked background database   \n",
            "2  Flowers, Benson and Mejia       Multi-lateral multi-tasking knowledgebase   \n",
            "3  Phillips, Ho and Williams         Centralized context-sensitive moderator   \n",
            "4                Johnson PLC  Programmable object-oriented Internet solution   \n",
            "\n",
            "                                             Address         Industry  \\\n",
            "0              62377 Brown Camp, Jerryport, OH 80139  Food & Beverage   \n",
            "1             4913 Cook Road, Gregorymouth, ME 19106          Fashion   \n",
            "2    855 Fisher Canyon Apt. 341, Taylorton, NJ 19828           Health   \n",
            "3  79465 Ramirez Mountains, North Maryport, MD 34794           Health   \n",
            "4  83752 Christopher Way Apt. 894, North Joseph, ...           Health   \n",
            "\n",
            "         Target Customer Customer Age Range             Customer Country  \\\n",
            "0        Startups et PME          25-50 ans                        Congo   \n",
            "1  Jeunes professionnels          25-50 ans                   Azerbaijan   \n",
            "2  Jeunes professionnels          18-35 ans                    Argentina   \n",
            "3  Jeunes professionnels          25-50 ans  French Southern Territories   \n",
            "4        Startups et PME          18-35 ans                      Armenia   \n",
            "\n",
            "  Marketing Budget                           Website  \\\n",
            "0          45255               https://edwards.com/   \n",
            "1          41227          http://brown-johnson.org/   \n",
            "2          30755             http://www.coffey.com/   \n",
            "3          35093   http://www.collier-melendez.com/   \n",
            "4          40319      https://www.alvarez-beck.com/   \n",
            "\n",
            "                                        Social Media  \\\n",
            "0  @sbeasley, fb.com/jacksonshelly, linkedin.com/...   \n",
            "1  @richardrodriguez, fb.com/millerbrandi, linked...   \n",
            "2  @csimpson, fb.com/william29, linkedin.com/barn...   \n",
            "3  @sandra41, fb.com/briannamiller, linkedin.com/...   \n",
            "4  @ericksonjeremy, fb.com/xlopez, linkedin.com/g...   \n",
            "\n",
            "                 Product Image URL              Product Description  \\\n",
            "0  https://placekitten.com/383/441      generate distributed models   \n",
            "1   https://dummyimage.com/354x137               drive B2B eyeballs   \n",
            "2    https://picsum.photos/656/799     streamline 24/7 applications   \n",
            "3   https://dummyimage.com/842x143  benchmark efficient experiences   \n",
            "4     https://picsum.photos/79/991    repurpose seamless e-commerce   \n",
            "\n",
            "                           Final Product Description  \\\n",
            "0  generate distributed models. Image analysis su...   \n",
            "1  drive B2B eyeballs. Image analysis suggests: F...   \n",
            "2  streamline 24/7 applications. Image analysis s...   \n",
            "3  benchmark efficient experiences. Image analysi...   \n",
            "4  repurpose seamless e-commerce. Image analysis ...   \n",
            "\n",
            "                                  Company_Scrap_Data  \\\n",
            "0  LinkedIn data for Davidson LLC: Property adult...   \n",
            "1  LinkedIn data for Hill Group: Decide store mee...   \n",
            "2  LinkedIn data for Flowers, Benson and Mejia: S...   \n",
            "3  LinkedIn data for Phillips, Ho and Williams: T...   \n",
            "4  LinkedIn data for Johnson PLC: Challenge proje...   \n",
            "\n",
            "                                  Product_Scrap_Data  \n",
            "0  Question understand parent attention care it. ...  \n",
            "1  Save thank free tell doctor gas career. Everyo...  \n",
            "2  Claim will your may blood analysis. Care optio...  \n",
            "3  Down month hour. Second treat expect administr...  \n",
            "4  Animal again along space Democrat head. Thousa...  \n",
            "\n",
            "Column names:\n",
            "Index(['Business Name', 'Business Description', 'Address', 'Industry',\n",
            "       'Target Customer', 'Customer Age Range', 'Customer Country',\n",
            "       'Marketing Budget', 'Website', 'Social Media', 'Product Image URL',\n",
            "       'Product Description', 'Final Product Description',\n",
            "       'Company_Scrap_Data', 'Product_Scrap_Data'],\n",
            "      dtype='object')\n"
          ]
        }
      ]
    },
    {
      "cell_type": "markdown",
      "source": [
        "# 2. Data Understanding"
      ],
      "metadata": {
        "id": "2tWwj9h1xbqp"
      }
    },
    {
      "cell_type": "markdown",
      "source": [
        "**2.1 Inspect Dataset Structure**"
      ],
      "metadata": {
        "id": "POLhm3oFxfDw"
      }
    },
    {
      "cell_type": "code",
      "source": [
        "# Check the shape of the dataset\n",
        "print(\"Dataset shape:\", df.shape)\n",
        "\n",
        "# Check data types of each column\n",
        "print(\"\\nData types:\")\n",
        "print(df.dtypes)\n",
        "\n",
        "# Check for missing values\n",
        "print(\"\\nMissing values in each column:\")\n",
        "print(df.isnull().sum())"
      ],
      "metadata": {
        "id": "PDAUaKQCxgcJ",
        "colab": {
          "base_uri": "https://localhost:8080/"
        },
        "outputId": "69287e68-d759-4f0a-9d14-c0ff94c16fb5"
      },
      "execution_count": null,
      "outputs": [
        {
          "output_type": "stream",
          "name": "stdout",
          "text": [
            "Dataset shape: (5000, 15)\n",
            "\n",
            "Data types:\n",
            "Business Name                object\n",
            "Business Description         object\n",
            "Address                      object\n",
            "Industry                     object\n",
            "Target Customer              object\n",
            "Customer Age Range           object\n",
            "Customer Country             object\n",
            "Marketing Budget             object\n",
            "Website                      object\n",
            "Social Media                 object\n",
            "Product Image URL            object\n",
            "Product Description          object\n",
            "Final Product Description    object\n",
            "Company_Scrap_Data           object\n",
            "Product_Scrap_Data           object\n",
            "dtype: object\n",
            "\n",
            "Missing values in each column:\n",
            "Business Name                0\n",
            "Business Description         0\n",
            "Address                      0\n",
            "Industry                     0\n",
            "Target Customer              0\n",
            "Customer Age Range           0\n",
            "Customer Country             0\n",
            "Marketing Budget             0\n",
            "Website                      0\n",
            "Social Media                 0\n",
            "Product Image URL            0\n",
            "Product Description          0\n",
            "Final Product Description    0\n",
            "Company_Scrap_Data           0\n",
            "Product_Scrap_Data           0\n",
            "dtype: int64\n"
          ]
        }
      ]
    },
    {
      "cell_type": "markdown",
      "source": [
        "**# 2.2 Select Relevant Features**"
      ],
      "metadata": {
        "id": "CMT2nSA7xnbT"
      }
    },
    {
      "cell_type": "code",
      "source": [
        "# Select only the relevant features for analysis\n",
        "relevant_features = [\n",
        "    'Industry', 'Target Customer', 'Customer Age Range',\n",
        "    'Marketing Budget'\n",
        "]\n",
        "\n",
        "# Create a new DataFrame with only the relevant features\n",
        "df_relevant = df[relevant_features]\n",
        "\n",
        "# Display the first few rows of the relevant DataFrame\n",
        "print(\"\\nFirst 5 rows of the relevant DataFrame:\")\n",
        "print(df_relevant.head())"
      ],
      "metadata": {
        "id": "lYT0ZXN4xrr-",
        "colab": {
          "base_uri": "https://localhost:8080/"
        },
        "outputId": "cc658a21-f283-4983-a747-fcb7d95f2ed6"
      },
      "execution_count": null,
      "outputs": [
        {
          "output_type": "stream",
          "name": "stdout",
          "text": [
            "\n",
            "First 5 rows of the relevant DataFrame:\n",
            "          Industry        Target Customer Customer Age Range Marketing Budget\n",
            "0  Food & Beverage        Startups et PME          25-50 ans          45255 \n",
            "1          Fashion  Jeunes professionnels          25-50 ans          41227 \n",
            "2           Health  Jeunes professionnels          18-35 ans          30755 \n",
            "3           Health  Jeunes professionnels          25-50 ans          35093 \n",
            "4           Health        Startups et PME          18-35 ans          40319 \n"
          ]
        }
      ]
    },
    {
      "cell_type": "markdown",
      "source": [
        "# 3. Data Preparation"
      ],
      "metadata": {
        "id": "yVHQjR8ex1Fk"
      }
    },
    {
      "cell_type": "markdown",
      "source": [
        "**3.1 Handle Missing Values**"
      ],
      "metadata": {
        "id": "UyTTFIEIx4RC"
      }
    },
    {
      "cell_type": "code",
      "source": [
        "# Drop rows with missing values\n",
        "df_relevant = df_relevant.dropna()\n",
        "\n",
        "# Verify that there are no missing values\n",
        "print(\"\\nMissing values after dropping:\")\n",
        "print(df_relevant.isnull().sum())"
      ],
      "metadata": {
        "id": "cj0vve8Ex6Uu",
        "colab": {
          "base_uri": "https://localhost:8080/"
        },
        "outputId": "c22e4eef-02e0-4cae-fecb-ae8206084131"
      },
      "execution_count": null,
      "outputs": [
        {
          "output_type": "stream",
          "name": "stdout",
          "text": [
            "\n",
            "Missing values after dropping:\n",
            "Industry              0\n",
            "Target Customer       0\n",
            "Customer Age Range    0\n",
            "Marketing Budget      0\n",
            "dtype: int64\n"
          ]
        }
      ]
    },
    {
      "cell_type": "markdown",
      "source": [
        "**3.2 Clean the Marketing Budget Column**"
      ],
      "metadata": {
        "id": "eQexJtXgyEzU"
      }
    },
    {
      "cell_type": "code",
      "source": [
        "# Clean the Marketing Budget column\n",
        "df_relevant['Marketing Budget'] = (\n",
        "    df_relevant['Marketing Budget']\n",
        "    .str.replace('', '', regex=False)  # Remove the Euro symbol\n",
        "    .str.replace(',', '', regex=False)  # Remove commas (if any)\n",
        "    .astype(float)  # Convert to numeric type\n",
        ")\n",
        "\n",
        "# Display the cleaned Marketing Budget column\n",
        "print(\"\\nCleaned Marketing Budget column:\")\n",
        "print(df_relevant['Marketing Budget'].head())"
      ],
      "metadata": {
        "colab": {
          "base_uri": "https://localhost:8080/"
        },
        "id": "h5Qo4kVhyGIL",
        "outputId": "05298c88-bf20-4f46-c640-4109ef96b791"
      },
      "execution_count": null,
      "outputs": [
        {
          "output_type": "stream",
          "name": "stdout",
          "text": [
            "\n",
            "Cleaned Marketing Budget column:\n",
            "0    45255.0\n",
            "1    41227.0\n",
            "2    30755.0\n",
            "3    35093.0\n",
            "4    40319.0\n",
            "Name: Marketing Budget, dtype: float64\n"
          ]
        }
      ]
    },
    {
      "cell_type": "markdown",
      "source": [
        "**3.3 Add Trends and Strategy Category Columns**"
      ],
      "metadata": {
        "id": "qmvUVsANyYBO"
      }
    },
    {
      "cell_type": "code",
      "source": [
        "import pandas as pd\n",
        "import numpy as np\n",
        "from sklearn.preprocessing import OneHotEncoder\n",
        "\n",
        "# Expanded trend mappings including all industries and more features\n",
        "trend_mappings = {\n",
        "    \"Food & Beverage\": {\n",
        "        \"18-35 ans\": {\n",
        "            \"Jeunes professionnels\": [\"Healthy snacks, plant-based diets\", \"Cold-pressed juices, superfoods\"],\n",
        "            \"Startups et PME\": [\"Organic living, self-care\", \"Sustainable packaging\"]\n",
        "        },\n",
        "        \"25-50 ans\": {\n",
        "            \"Jeunes professionnels\": [\"Meal kits, premium beverages\", \"Wine tasting experiences\"],\n",
        "            \"Startups et PME\": [\"Gourmet cooking classes\", \"Farm-to-table experiences\"]\n",
        "        }\n",
        "    },\n",
        "    \"Fashion\": {\n",
        "        \"18-35 ans\": {\n",
        "            \"Jeunes professionnels\": [\"Athleisure, sustainability\", \"Streetwear, eco-friendly fashion\"],\n",
        "            \"Startups et PME\": [\"Minimalist fashion, capsule wardrobes\", \"Upcycled clothing\"]\n",
        "        },\n",
        "        \"25-50 ans\": {\n",
        "            \"Jeunes professionnels\": [\"Luxury fashion, timeless styles\", \"Experiential fashion shows\"],\n",
        "            \"Startups et PME\": [\"Pet wellness fashion\", \"Ethical luxury brands\"]\n",
        "        }\n",
        "    },\n",
        "    \"Health\": {\n",
        "        \"18-35 ans\": {\n",
        "            \"Jeunes professionnels\": [\"Fitness trackers, mental health apps\", \"Yoga, meditation retreats\"],\n",
        "            \"Startups et PME\": [\"Mobile apps, remote health tools\", \"Telehealth solutions\"]\n",
        "        },\n",
        "        \"25-50 ans\": {\n",
        "            \"Jeunes professionnels\": [\"Wellness retreats, personalized healthcare\", \"Virtual health events\"],\n",
        "            \"Startups et PME\": [\"Sustainable healthcare products\", \"Corporate wellness programs\"]\n",
        "        }\n",
        "    },\n",
        "    \"Tech\": {  # Updated to match dataset's \"Tech\" industry\n",
        "        \"18-35 ans\": {\n",
        "            \"Jeunes professionnels\": [\"Gaming, AR/VR experiences\", \"Social media platforms, content creation\"],\n",
        "            \"Startups et PME\": [\"Smart home devices, IoT\", \"AI-driven startups\"]\n",
        "        },\n",
        "        \"25-50 ans\": {\n",
        "            \"Jeunes professionnels\": [\"Productivity tools, automation\", \"Cybersecurity, data privacy\"],\n",
        "            \"Startups et PME\": [\"Smart home solutions\", \"Enterprise AI solutions\"]\n",
        "        }\n",
        "    },\n",
        "    \"Education\": {\n",
        "        \"18-35 ans\": {\n",
        "            \"Jeunes professionnels\": [\"Online courses, skill development\", \"Coding bootcamps, tech certifications\"],\n",
        "            \"Startups et PME\": [\"Language learning apps\", \"EdTech platforms\"]\n",
        "        },\n",
        "        \"25-50 ans\": {\n",
        "            \"Jeunes professionnels\": [\"Professional certifications, executive education\", \"Online MBA programs\"],\n",
        "            \"Startups et PME\": [\"Leadership training, soft skills\", \"Career coaching platforms\"]\n",
        "        }\n",
        "    }\n",
        "}\n",
        "\n",
        "def assign_trend(row):\n",
        "    industry = row['Industry']\n",
        "    age_range = row['Customer Age Range']\n",
        "    target_customer = row['Target Customer']\n",
        "\n",
        "    # Check if industry, age range, and target customer exist in mappings\n",
        "    if industry in trend_mappings:\n",
        "        if age_range in trend_mappings[industry]:\n",
        "            if target_customer in trend_mappings[industry][age_range]:\n",
        "                # Deterministic selection: choose the first trend for consistency\n",
        "                return trend_mappings[industry][age_range][target_customer][0]\n",
        "\n",
        "    # Default trend based on industry or generic fallback\n",
        "    default_trends = {\n",
        "        \"Food & Beverage\": \"Sustainable food practices\",\n",
        "        \"Fashion\": \"Eco-friendly fashion\",\n",
        "        \"Health\": \"Digital health solutions\",\n",
        "        \"Tech\": \"AI-driven innovations\",\n",
        "        \"Education\": \"Online learning platforms\",\n",
        "        \"Other\": \"Sustainability, local sourcing\"\n",
        "    }\n",
        "    return default_trends.get(industry, default_trends[\"Other\"])\n",
        "\n",
        "# Apply trend assignment\n",
        "df_relevant['Trends'] = df_relevant.apply(assign_trend, axis=1)\n",
        "\n",
        "\n",
        "# Calculate industry-specific budget thresholds\n",
        "budget_thresholds = df_relevant.groupby('Industry')['Marketing Budget'].quantile([0.33, 0.66]).unstack()\n",
        "budget_thresholds.columns = ['Low_Medium', 'Medium_High']\n",
        "\n",
        "# Expanded strategy mappings\n",
        "strategy_mappings = {\n",
        "    \"Food & Beverage\": {\n",
        "        \"Low Budget\": {\n",
        "            \"18-35 ans\": \"Social Media Marketing\",\n",
        "            \"25-50 ans\": \"Email Marketing\"\n",
        "        },\n",
        "        \"Medium Budget\": {\n",
        "            \"18-35 ans\": \"Content Marketing\",\n",
        "            \"25-50 ans\": \"Search Engine Optimization (SEO)\"\n",
        "        },\n",
        "        \"High Budget\": {\n",
        "            \"18-35 ans\": \"Influencer Marketing\",\n",
        "            \"25-50 ans\": \"Event Marketing\"\n",
        "        }\n",
        "    },\n",
        "    \"Fashion\": {\n",
        "        \"Low Budget\": {\n",
        "            \"18-35 ans\": \"Social Media Marketing\",\n",
        "            \"25-50 ans\": \"Email Marketing\"\n",
        "        },\n",
        "        \"Medium Budget\": {\n",
        "            \"18-35 ans\": \"Influencer Marketing\",\n",
        "            \"25-50 ans\": \"Content Marketing\"\n",
        "        },\n",
        "        \"High Budget\": {\n",
        "            \"18-35 ans\": \"Pay-Per-Click (PPC) Advertising\",\n",
        "            \"25-50 ans\": \"Event Marketing\"\n",
        "        }\n",
        "    },\n",
        "    \"Health\": {\n",
        "        \"Low Budget\": {\n",
        "            \"18-35 ans\": \"Social Media Marketing\",\n",
        "            \"25-50 ans\": \"Content Marketing\"\n",
        "        },\n",
        "        \"Medium Budget\": {\n",
        "            \"18-35 ans\": \"Search Engine Optimization (SEO)\",\n",
        "            \"25-50 ans\": \"Email Marketing\"\n",
        "        },\n",
        "        \"High Budget\": {\n",
        "            \"18-35 ans\": \"Pay-Per-Click (PPC) Advertising\",\n",
        "            \"25-50 ans\": \"Event Marketing\"\n",
        "        }\n",
        "    },\n",
        "    \"Tech\": {\n",
        "        \"Low Budget\": {\n",
        "            \"18-35 ans\": \"Content Marketing\",\n",
        "            \"25-50 ans\": \"Email Marketing\"\n",
        "        },\n",
        "        \"Medium Budget\": {\n",
        "            \"18-35 ans\": \"Search Engine Optimization (SEO)\",\n",
        "            \"25-50 ans\": \"Content Marketing\"\n",
        "        },\n",
        "        \"High Budget\": {\n",
        "            \"18-35 ans\": \"Pay-Per-Click (PPC) Advertising\",\n",
        "            \"25-50 ans\": \"Event Marketing\"\n",
        "        }\n",
        "    },\n",
        "    \"Education\": {\n",
        "        \"Low Budget\": {\n",
        "            \"18-35 ans\": \"Social Media Marketing\",\n",
        "            \"25-50 ans\": \"Email Marketing\"\n",
        "        },\n",
        "        \"Medium Budget\": {\n",
        "            \"18-35 ans\": \"Content Marketing\",\n",
        "            \"25-50 ans\": \"Search Engine Optimization (SEO)\"\n",
        "        },\n",
        "        \"High Budget\": {\n",
        "            \"18-35 ans\": \"Pay-Per-Click (PPC) Advertising\",\n",
        "            \"25-50 ans\": \"Event Marketing\"\n",
        "        }\n",
        "    }\n",
        "}\n",
        "\n",
        "def assign_strategy(row):\n",
        "    industry = row['Industry']\n",
        "    budget = row['Marketing Budget']\n",
        "    age_range = row['Customer Age Range']\n",
        "\n",
        "    # Get industry-specific budget thresholds\n",
        "    if industry in budget_thresholds.index:\n",
        "        low_medium = budget_thresholds.loc[industry, 'Low_Medium']\n",
        "        medium_high = budget_thresholds.loc[industry, 'Medium_High']\n",
        "    else:\n",
        "        low_medium, medium_high = 30000, 40000  # Fallback thresholds\n",
        "\n",
        "    # Categorize budget\n",
        "    if budget < low_medium:\n",
        "        budget_category = \"Low Budget\"\n",
        "    elif low_medium <= budget <= medium_high:\n",
        "        budget_category = \"Medium Budget\"\n",
        "    else:\n",
        "        budget_category = \"High Budget\"\n",
        "\n",
        "    # Assign strategy\n",
        "    if industry in strategy_mappings:\n",
        "        if budget_category in strategy_mappings[industry]:\n",
        "            if age_range in strategy_mappings[industry][budget_category]:\n",
        "                return strategy_mappings[industry][budget_category][age_range]\n",
        "\n",
        "    # Default strategy based on industry\n",
        "    default_strategies = {\n",
        "        \"Food & Beverage\": \"Content Marketing\",\n",
        "        \"Fashion\": \"Social Media Marketing\",\n",
        "        \"Health\": \"Search Engine Optimization (SEO)\",\n",
        "        \"Tech\": \"Pay-Per-Click (PPC) Advertising\",\n",
        "        \"Education\": \"Email Marketing\",\n",
        "        \"Other\": \"Content Marketing\"\n",
        "    }\n",
        "    return default_strategies.get(industry, default_strategies[\"Other\"])\n",
        "\n",
        "# Apply strategy assignment\n",
        "df_relevant['Strategy Category'] = df_relevant.apply(assign_strategy, axis=1)\n",
        "\n",
        "\n",
        "# Save the updated dataset\n",
        "df_relevant.to_csv('small_businesses_with_trends_and_strategy.csv', index=False)\n",
        "\n",
        "print(\"Updated DataFrame with Strategy Category (first 5 rows):\")\n",
        "print(df_relevant.head())\n",
        "print(\"Dataset saved successfully!\")"
      ],
      "metadata": {
        "colab": {
          "base_uri": "https://localhost:8080/"
        },
        "id": "ck3shvAgAsxS",
        "outputId": "cb3f58d6-af0f-476a-d1e5-f9ab8c5cd3f6"
      },
      "execution_count": null,
      "outputs": [
        {
          "output_type": "stream",
          "name": "stdout",
          "text": [
            "Updated DataFrame with Strategy Category (first 5 rows):\n",
            "          Industry        Target Customer Customer Age Range  \\\n",
            "0  Food & Beverage        Startups et PME          25-50 ans   \n",
            "1          Fashion  Jeunes professionnels          25-50 ans   \n",
            "2           Health  Jeunes professionnels          18-35 ans   \n",
            "3           Health  Jeunes professionnels          25-50 ans   \n",
            "4           Health        Startups et PME          18-35 ans   \n",
            "\n",
            "   Marketing Budget                                      Trends  \\\n",
            "0           45255.0                     Gourmet cooking classes   \n",
            "1           41227.0             Luxury fashion, timeless styles   \n",
            "2           30755.0        Fitness trackers, mental health apps   \n",
            "3           35093.0  Wellness retreats, personalized healthcare   \n",
            "4           40319.0            Mobile apps, remote health tools   \n",
            "\n",
            "                  Strategy Category  \n",
            "0                   Event Marketing  \n",
            "1                   Event Marketing  \n",
            "2  Search Engine Optimization (SEO)  \n",
            "3                   Email Marketing  \n",
            "4   Pay-Per-Click (PPC) Advertising  \n",
            "Dataset saved successfully!\n"
          ]
        }
      ]
    },
    {
      "cell_type": "markdown",
      "source": [
        "**3.4 Encode Categorical Variables**"
      ],
      "metadata": {
        "id": "-dbTDp1UPmg3"
      }
    },
    {
      "cell_type": "code",
      "source": [
        "# Encode Strategy Category (target) with LabelEncoder and store for decoding\n",
        "strategy_encoder = LabelEncoder()\n",
        "df_relevant['Strategy Category'] = strategy_encoder.fit_transform(df_relevant['Strategy Category'])\n",
        "\n",
        "# Label encode categorical features\n",
        "categorical_columns = ['Industry', 'Target Customer', 'Customer Age Range', 'Trends']\n",
        "label_encoders = {}\n",
        "\n",
        "for col in categorical_columns:\n",
        "    le = LabelEncoder()\n",
        "    df_relevant[col] = le.fit_transform(df_relevant[col].astype(str))\n",
        "    label_encoders[col] = le  # Save encoder for potential inverse transform"
      ],
      "metadata": {
        "id": "E0jF9a1sPzf0"
      },
      "execution_count": null,
      "outputs": []
    },
    {
      "cell_type": "markdown",
      "source": [
        "**3.5 Detect and Handle Outliers**"
      ],
      "metadata": {
        "id": "8VZfrUu6zYLv"
      }
    },
    {
      "cell_type": "code",
      "source": [
        "import pandas as pd\n",
        "import matplotlib.pyplot as plt\n",
        "import seaborn as sns\n",
        "from sklearn.ensemble import IsolationForest\n",
        "from sklearn.neighbors import LocalOutlierFactor\n",
        "\n",
        "# Ensure deep copy\n",
        "df_relevant = df_relevant.copy()\n",
        "\n",
        "# Boxplot for Marketing Budget\n",
        "plt.figure(figsize=(8, 4))\n",
        "sns.boxplot(x=df_relevant['Marketing Budget'])\n",
        "plt.title(\"Boxplot of Marketing Budget\")\n",
        "plt.show()"
      ],
      "metadata": {
        "colab": {
          "base_uri": "https://localhost:8080/",
          "height": 410
        },
        "id": "ROpswFC6zZkf",
        "outputId": "be8c254d-4200-4cb8-e2b6-a2169a2d4873"
      },
      "execution_count": null,
      "outputs": [
        {
          "output_type": "display_data",
          "data": {
            "text/plain": [
              "<Figure size 800x400 with 1 Axes>"
            ],
            "image/png": "[encoded data removed]"
          },
          "metadata": {}
        }
      ]
    },
    {
      "cell_type": "markdown",
      "source": [
        "**3.9 Train-Test Split**"
      ],
      "metadata": {
        "id": "feUiEDVe1zx_"
      }
    },
    {
      "cell_type": "code",
      "source": [
        "import pandas as pd\n",
        "import numpy as np\n",
        "from sklearn.model_selection import train_test_split\n",
        "from imblearn.over_sampling import SMOTE\n",
        "from sklearn.preprocessing import StandardScaler\n",
        "\n",
        "# Ensure df_relevant is a deep copy to avoid SettingWithCopyWarning\n",
        "df_relevant = df_relevant.copy()\n",
        "\n",
        "# Prepare features and target\n",
        "X = df_relevant.drop(columns=['Strategy Category'])\n",
        "y = df_relevant['Strategy Category']\n",
        "\n",
        "# Split the dataset into training and testing sets (80% train, 20% test)\n",
        "X_train, X_test, y_train, y_test = train_test_split(\n",
        "    X, y, test_size=0.2, random_state=42, stratify=y\n",
        ")\n",
        "print(\"\\nTraining set shape:\", X_train.shape)\n",
        "print(\"Testing set shape:\", X_test.shape)\n",
        "# Check class distribution before SMOTE\n",
        "print(\"\\nClass distribution in y_train before SMOTE:\")\n",
        "print(y_train.value_counts())\n",
        "\n",
        "# Apply SMOTE to balance the training set\n",
        "smote = SMOTE(random_state=42)\n",
        "X_train_resampled, y_train_resampled = smote.fit_resample(X_train, y_train)\n",
        "\n",
        "# Check class distribution after SMOTE\n",
        "print(\"\\nClass distribution in y_train after SMOTE:\")\n",
        "print(pd.Series(y_train_resampled).value_counts())\n",
        "\n",
        "# Verify new training set shape\n",
        "print(\"\\nResampled training set shape:\", X_train_resampled.shape)\n"
      ],
      "metadata": {
        "colab": {
          "base_uri": "https://localhost:8080/"
        },
        "id": "DK5uctpO117Q",
        "outputId": "864032ca-9968-47c8-e79d-698f7f241254"
      },
      "execution_count": null,
      "outputs": [
        {
          "output_type": "stream",
          "name": "stdout",
          "text": [
            "\n",
            "Training set shape: (4000, 5)\n",
            "Testing set shape: (1000, 5)\n",
            "\n",
            "Class distribution in y_train before SMOTE:\n",
            "Strategy Category\n",
            "0    816\n",
            "1    706\n",
            "6    621\n",
            "4    604\n",
            "5    602\n",
            "2    469\n",
            "3    182\n",
            "Name: count, dtype: int64\n",
            "\n",
            "Class distribution in y_train after SMOTE:\n",
            "Strategy Category\n",
            "1    816\n",
            "4    816\n",
            "6    816\n",
            "2    816\n",
            "5    816\n",
            "0    816\n",
            "3    816\n",
            "Name: count, dtype: int64\n",
            "\n",
            "Resampled training set shape: (5712, 5)\n"
          ]
        }
      ]
    },
    {
      "cell_type": "markdown",
      "source": [
        "# 4- Modeling"
      ],
      "metadata": {
        "id": "9JmFr31r1_GI"
      }
    },
    {
      "cell_type": "markdown",
      "source": [
        "**Hyperparameter Tuning**"
      ],
      "metadata": {
        "id": "5_DrIqfg2HqZ"
      }
    },
    {
      "cell_type": "code",
      "source": [
        "from sklearn.ensemble import RandomForestClassifier\n",
        "from sklearn.model_selection import GridSearchCV\n",
        "\n",
        "# Define the model\n",
        "rf_model = RandomForestClassifier(random_state=42)\n",
        "\n",
        "# Define the hyperparameters to test\n",
        "param_grid = {\n",
        "    'n_estimators': [50, 100, 200],   # Number of trees\n",
        "    'max_depth': [None, 10, 20],      # Depth of each tree\n",
        "    'min_samples_split': [2, 5, 10],  # Minimum samples to split\n",
        "}\n",
        "\n",
        "# Perform Grid Search\n",
        "grid_search = GridSearchCV(rf_model, param_grid, cv=5, scoring='accuracy', n_jobs=-1)\n",
        "grid_search.fit(X_train, y_train)\n",
        "\n",
        "# Best Hyperparameters\n",
        "print(\"Best parameters:\", grid_search.best_params_)"
      ],
      "metadata": {
        "id": "VR8c2mB-2EY2",
        "colab": {
          "base_uri": "https://localhost:8080/"
        },
        "outputId": "6c5c01d8-16d6-4a15-b1a0-ebb7a0d7cb84"
      },
      "execution_count": null,
      "outputs": [
        {
          "output_type": "stream",
          "name": "stdout",
          "text": [
            "Best parameters: {'max_depth': 10, 'min_samples_split': 2, 'n_estimators': 50}\n"
          ]
        }
      ]
    },
    {
      "cell_type": "markdown",
      "source": [
        "**Compare Multiple Models**"
      ],
      "metadata": {
        "id": "f_vuNgNK2N5L"
      }
    },
    {
      "cell_type": "code",
      "source": [
        "from sklearn.linear_model import LogisticRegression\n",
        "from xgboost import XGBClassifier\n",
        "from sklearn.ensemble import RandomForestClassifier\n",
        "from sklearn.metrics import accuracy_score\n",
        "\n",
        "# Define Models\n",
        "models = {\n",
        "    \"Logistic Regression\": LogisticRegression(max_iter=500),\n",
        "    \"Random Forest\": RandomForestClassifier(**grid_search.best_params_, random_state=42),\n",
        "    \"XGBoost\": XGBClassifier(use_label_encoder=False, eval_metric='mlogloss')\n",
        "}\n",
        "\n",
        "# Train & Evaluate\n",
        "for name, model in models.items():\n",
        "    model.fit(X_train, y_train)\n",
        "    y_pred = model.predict(X_test)\n",
        "    acc = accuracy_score(y_test, y_pred)\n",
        "    print(f\"{name} Accuracy: {acc:.4f}\")"
      ],
      "metadata": {
        "id": "gqKjm-Gv2PR7",
        "colab": {
          "base_uri": "https://localhost:8080/"
        },
        "outputId": "5cf66f26-fc06-480a-9a41-91addff540bb"
      },
      "execution_count": null,
      "outputs": [
        {
          "output_type": "stream",
          "name": "stderr",
          "text": [
            "/usr/local/lib/python3.11/dist-packages/sklearn/linear_model/_logistic.py:465: ConvergenceWarning: lbfgs failed to converge (status=1):\n",
            "STOP: TOTAL NO. of ITERATIONS REACHED LIMIT.\n",
            "\n",
            "Increase the number of iterations (max_iter) or scale the data as shown in:\n",
            "    https://scikit-learn.org/stable/modules/preprocessing.html\n",
            "Please also refer to the documentation for alternative solver options:\n",
            "    https://scikit-learn.org/stable/modules/linear_model.html#logistic-regression\n",
            "  n_iter_i = _check_optimize_result(\n"
          ]
        },
        {
          "output_type": "stream",
          "name": "stdout",
          "text": [
            "Logistic Regression Accuracy: 0.4150\n",
            "Random Forest Accuracy: 0.9930\n"
          ]
        },
        {
          "output_type": "stream",
          "name": "stderr",
          "text": [
            "/usr/local/lib/python3.11/dist-packages/xgboost/core.py:158: UserWarning: [10:03:41] WARNING: /workspace/src/learner.cc:740: \n",
            "Parameters: { \"use_label_encoder\" } are not used.\n",
            "\n",
            "  warnings.warn(smsg, UserWarning)\n"
          ]
        },
        {
          "output_type": "stream",
          "name": "stdout",
          "text": [
            "XGBoost Accuracy: 0.9910\n"
          ]
        }
      ]
    },
    {
      "cell_type": "markdown",
      "source": [
        "**Train the Best Model**"
      ],
      "metadata": {
        "id": "PJ4WFfUg2VBl"
      }
    },
    {
      "cell_type": "code",
      "source": [
        "import xgboost as xgb\n",
        "from sklearn.model_selection import GridSearchCV\n",
        "from sklearn.metrics import accuracy_score\n",
        "\n",
        "# Initialize the XGBoost classifier with the best parameters\n",
        "best_model = xgb.XGBClassifier(**grid_search.best_params_)\n",
        "\n",
        "# Train the model\n",
        "best_model.fit(X_train, y_train)\n"
      ],
      "metadata": {
        "id": "we5NiRq22WNW",
        "colab": {
          "base_uri": "https://localhost:8080/",
          "height": 323
        },
        "outputId": "404a3aa7-cc68-468b-a77c-d3ea4d101ce9"
      },
      "execution_count": null,
      "outputs": [
        {
          "output_type": "stream",
          "name": "stderr",
          "text": [
            "/usr/local/lib/python3.11/dist-packages/xgboost/core.py:158: UserWarning: [10:03:45] WARNING: /workspace/src/learner.cc:740: \n",
            "Parameters: { \"min_samples_split\" } are not used.\n",
            "\n",
            "  warnings.warn(smsg, UserWarning)\n"
          ]
        },
        {
          "output_type": "execute_result",
          "data": {
            "text/plain": [
              "XGBClassifier(base_score=None, booster=None, callbacks=None,\n",
              "              colsample_bylevel=None, colsample_bynode=None,\n",
              "              colsample_bytree=None, device=None, early_stopping_rounds=None,\n",
              "              enable_categorical=False, eval_metric=None, feature_types=None,\n",
              "              gamma=None, grow_policy=None, importance_type=None,\n",
              "              interaction_constraints=None, learning_rate=None, max_bin=None,\n",
              "              max_cat_threshold=None, max_cat_to_onehot=None,\n",
              "              max_delta_step=None, max_depth=10, max_leaves=None,\n",
              "              min_child_weight=None, min_samples_split=2, missing=nan,\n",
              "              monotone_constraints=None, multi_strategy=None, n_estimators=50,\n",
              "              n_jobs=None, num_parallel_tree=None, ...)"
            ],
            "text/html": [
              "<style>#sk-container-id-2 {\n",
              "  /* Definition of color scheme common for light and dark mode */\n",
              "  --sklearn-color-text: #000;\n",
              "  --sklearn-color-text-muted: #666;\n",
              "  --sklearn-color-line: gray;\n",
              "  /* Definition of color scheme for unfitted estimators */\n",
              "  --sklearn-color-unfitted-level-0: #fff5e6;\n",
              "  --sklearn-color-unfitted-level-1: #f6e4d2;\n",
              "  --sklearn-color-unfitted-level-2: #ffe0b3;\n",
              "  --sklearn-color-unfitted-level-3: chocolate;\n",
              "  /* Definition of color scheme for fitted estimators */\n",
              "  --sklearn-color-fitted-level-0: #f0f8ff;\n",
              "  --sklearn-color-fitted-level-1: #d4ebff;\n",
              "  --sklearn-color-fitted-level-2: #b3dbfd;\n",
              "  --sklearn-color-fitted-level-3: cornflowerblue;\n",
              "\n",
              "  /* Specific color for light theme */\n",
              "  --sklearn-color-text-on-default-background: var(--sg-text-color, var(--theme-code-foreground, var(--jp-content-font-color1, black)));\n",
              "  --sklearn-color-background: var(--sg-background-color, var(--theme-background, var(--jp-layout-color0, white)));\n",
              "  --sklearn-color-border-box: var(--sg-text-color, var(--theme-code-foreground, var(--jp-content-font-color1, black)));\n",
              "  --sklearn-color-icon: #696969;\n",
              "\n",
              "  @media (prefers-color-scheme: dark) {\n",
              "    /* Redefinition of color scheme for dark theme */\n",
              "    --sklearn-color-text-on-default-background: var(--sg-text-color, var(--theme-code-foreground, var(--jp-content-font-color1, white)));\n",
              "    --sklearn-color-background: var(--sg-background-color, var(--theme-background, var(--jp-layout-color0, #111)));\n",
              "    --sklearn-color-border-box: var(--sg-text-color, var(--theme-code-foreground, var(--jp-content-font-color1, white)));\n",
              "    --sklearn-color-icon: #878787;\n",
              "  }\n",
              "}\n",
              "\n",
              "#sk-container-id-2 {\n",
              "  color: var(--sklearn-color-text);\n",
              "}\n",
              "\n",
              "#sk-container-id-2 pre {\n",
              "  padding: 0;\n",
              "}\n",
              "\n",
              "#sk-container-id-2 input.sk-hidden--visually {\n",
              "  border: 0;\n",
              "  clip: rect(1px 1px 1px 1px);\n",
              "  clip: rect(1px, 1px, 1px, 1px);\n",
              "  height: 1px;\n",
              "  margin: -1px;\n",
              "  overflow: hidden;\n",
              "  padding: 0;\n",
              "  position: absolute;\n",
              "  width: 1px;\n",
              "}\n",
              "\n",
              "#sk-container-id-2 div.sk-dashed-wrapped {\n",
              "  border: 1px dashed var(--sklearn-color-line);\n",
              "  margin: 0 0.4em 0.5em 0.4em;\n",
              "  box-sizing: border-box;\n",
              "  padding-bottom: 0.4em;\n",
              "  background-color: var(--sklearn-color-background);\n",
              "}\n",
              "\n",
              "#sk-container-id-2 div.sk-container {\n",
              "  /* jupyter's `normalize.less` sets `[hidden] { display: none; }`\n",
              "     but bootstrap.min.css set `[hidden] { display: none !important; }`\n",
              "     so we also need the `!important` here to be able to override the\n",
              "     default hidden behavior on the sphinx rendered scikit-learn.org.\n",
              "     See: https://github.com/scikit-learn/scikit-learn/issues/21755 */\n",
              "  display: inline-block !important;\n",
              "  position: relative;\n",
              "}\n",
              "\n",
              "#sk-container-id-2 div.sk-text-repr-fallback {\n",
              "  display: none;\n",
              "}\n",
              "\n",
              "div.sk-parallel-item,\n",
              "div.sk-serial,\n",
              "div.sk-item {\n",
              "  /* draw centered vertical line to link estimators */\n",
              "  background-image: linear-gradient(var(--sklearn-color-text-on-default-background), var(--sklearn-color-text-on-default-background));\n",
              "  background-size: 2px 100%;\n",
              "  background-repeat: no-repeat;\n",
              "  background-position: center center;\n",
              "}\n",
              "\n",
              "/* Parallel-specific style estimator block */\n",
              "\n",
              "#sk-container-id-2 div.sk-parallel-item::after {\n",
              "  content: \"\";\n",
              "  width: 100%;\n",
              "  border-bottom: 2px solid var(--sklearn-color-text-on-default-background);\n",
              "  flex-grow: 1;\n",
              "}\n",
              "\n",
              "#sk-container-id-2 div.sk-parallel {\n",
              "  display: flex;\n",
              "  align-items: stretch;\n",
              "  justify-content: center;\n",
              "  background-color: var(--sklearn-color-background);\n",
              "  position: relative;\n",
              "}\n",
              "\n",
              "#sk-container-id-2 div.sk-parallel-item {\n",
              "  display: flex;\n",
              "  flex-direction: column;\n",
              "}\n",
              "\n",
              "#sk-container-id-2 div.sk-parallel-item:first-child::after {\n",
              "  align-self: flex-end;\n",
              "  width: 50%;\n",
              "}\n",
              "\n",
              "#sk-container-id-2 div.sk-parallel-item:last-child::after {\n",
              "  align-self: flex-start;\n",
              "  width: 50%;\n",
              "}\n",
              "\n",
              "#sk-container-id-2 div.sk-parallel-item:only-child::after {\n",
              "  width: 0;\n",
              "}\n",
              "\n",
              "/* Serial-specific style estimator block */\n",
              "\n",
              "#sk-container-id-2 div.sk-serial {\n",
              "  display: flex;\n",
              "  flex-direction: column;\n",
              "  align-items: center;\n",
              "  background-color: var(--sklearn-color-background);\n",
              "  padding-right: 1em;\n",
              "  padding-left: 1em;\n",
              "}\n",
              "\n",
              "\n",
              "/* Toggleable style: style used for estimator/Pipeline/ColumnTransformer box that is\n",
              "clickable and can be expanded/collapsed.\n",
              "- Pipeline and ColumnTransformer use this feature and define the default style\n",
              "- Estimators will overwrite some part of the style using the `sk-estimator` class\n",
              "*/\n",
              "\n",
              "/* Pipeline and ColumnTransformer style (default) */\n",
              "\n",
              "#sk-container-id-2 div.sk-toggleable {\n",
              "  /* Default theme specific background. It is overwritten whether we have a\n",
              "  specific estimator or a Pipeline/ColumnTransformer */\n",
              "  background-color: var(--sklearn-color-background);\n",
              "}\n",
              "\n",
              "/* Toggleable label */\n",
              "#sk-container-id-2 label.sk-toggleable__label {\n",
              "  cursor: pointer;\n",
              "  display: flex;\n",
              "  width: 100%;\n",
              "  margin-bottom: 0;\n",
              "  padding: 0.5em;\n",
              "  box-sizing: border-box;\n",
              "  text-align: center;\n",
              "  align-items: start;\n",
              "  justify-content: space-between;\n",
              "  gap: 0.5em;\n",
              "}\n",
              "\n",
              "#sk-container-id-2 label.sk-toggleable__label .caption {\n",
              "  font-size: 0.6rem;\n",
              "  font-weight: lighter;\n",
              "  color: var(--sklearn-color-text-muted);\n",
              "}\n",
              "\n",
              "#sk-container-id-2 label.sk-toggleable__label-arrow:before {\n",
              "  /* Arrow on the left of the label */\n",
              "  content: \"▸\";\n",
              "  float: left;\n",
              "  margin-right: 0.25em;\n",
              "  color: var(--sklearn-color-icon);\n",
              "}\n",
              "\n",
              "#sk-container-id-2 label.sk-toggleable__label-arrow:hover:before {\n",
              "  color: var(--sklearn-color-text);\n",
              "}\n",
              "\n",
              "/* Toggleable content - dropdown */\n",
              "\n",
              "#sk-container-id-2 div.sk-toggleable__content {\n",
              "  max-height: 0;\n",
              "  max-width: 0;\n",
              "  overflow: hidden;\n",
              "  text-align: left;\n",
              "  /* unfitted */\n",
              "  background-color: var(--sklearn-color-unfitted-level-0);\n",
              "}\n",
              "\n",
              "#sk-container-id-2 div.sk-toggleable__content.fitted {\n",
              "  /* fitted */\n",
              "  background-color: var(--sklearn-color-fitted-level-0);\n",
              "}\n",
              "\n",
              "#sk-container-id-2 div.sk-toggleable__content pre {\n",
              "  margin: 0.2em;\n",
              "  border-radius: 0.25em;\n",
              "  color: var(--sklearn-color-text);\n",
              "  /* unfitted */\n",
              "  background-color: var(--sklearn-color-unfitted-level-0);\n",
              "}\n",
              "\n",
              "#sk-container-id-2 div.sk-toggleable__content.fitted pre {\n",
              "  /* unfitted */\n",
              "  background-color: var(--sklearn-color-fitted-level-0);\n",
              "}\n",
              "\n",
              "#sk-container-id-2 input.sk-toggleable__control:checked~div.sk-toggleable__content {\n",
              "  /* Expand drop-down */\n",
              "  max-height: 200px;\n",
              "  max-width: 100%;\n",
              "  overflow: auto;\n",
              "}\n",
              "\n",
              "#sk-container-id-2 input.sk-toggleable__control:checked~label.sk-toggleable__label-arrow:before {\n",
              "  content: \"▾\";\n",
              "}\n",
              "\n",
              "/* Pipeline/ColumnTransformer-specific style */\n",
              "\n",
              "#sk-container-id-2 div.sk-label input.sk-toggleable__control:checked~label.sk-toggleable__label {\n",
              "  color: var(--sklearn-color-text);\n",
              "  background-color: var(--sklearn-color-unfitted-level-2);\n",
              "}\n",
              "\n",
              "#sk-container-id-2 div.sk-label.fitted input.sk-toggleable__control:checked~label.sk-toggleable__label {\n",
              "  background-color: var(--sklearn-color-fitted-level-2);\n",
              "}\n",
              "\n",
              "/* Estimator-specific style */\n",
              "\n",
              "/* Colorize estimator box */\n",
              "#sk-container-id-2 div.sk-estimator input.sk-toggleable__control:checked~label.sk-toggleable__label {\n",
              "  /* unfitted */\n",
              "  background-color: var(--sklearn-color-unfitted-level-2);\n",
              "}\n",
              "\n",
              "#sk-container-id-2 div.sk-estimator.fitted input.sk-toggleable__control:checked~label.sk-toggleable__label {\n",
              "  /* fitted */\n",
              "  background-color: var(--sklearn-color-fitted-level-2);\n",
              "}\n",
              "\n",
              "#sk-container-id-2 div.sk-label label.sk-toggleable__label,\n",
              "#sk-container-id-2 div.sk-label label {\n",
              "  /* The background is the default theme color */\n",
              "  color: var(--sklearn-color-text-on-default-background);\n",
              "}\n",
              "\n",
              "/* On hover, darken the color of the background */\n",
              "#sk-container-id-2 div.sk-label:hover label.sk-toggleable__label {\n",
              "  color: var(--sklearn-color-text);\n",
              "  background-color: var(--sklearn-color-unfitted-level-2);\n",
              "}\n",
              "\n",
              "/* Label box, darken color on hover, fitted */\n",
              "#sk-container-id-2 div.sk-label.fitted:hover label.sk-toggleable__label.fitted {\n",
              "  color: var(--sklearn-color-text);\n",
              "  background-color: var(--sklearn-color-fitted-level-2);\n",
              "}\n",
              "\n",
              "/* Estimator label */\n",
              "\n",
              "#sk-container-id-2 div.sk-label label {\n",
              "  font-family: monospace;\n",
              "  font-weight: bold;\n",
              "  display: inline-block;\n",
              "  line-height: 1.2em;\n",
              "}\n",
              "\n",
              "#sk-container-id-2 div.sk-label-container {\n",
              "  text-align: center;\n",
              "}\n",
              "\n",
              "/* Estimator-specific */\n",
              "#sk-container-id-2 div.sk-estimator {\n",
              "  font-family: monospace;\n",
              "  border: 1px dotted var(--sklearn-color-border-box);\n",
              "  border-radius: 0.25em;\n",
              "  box-sizing: border-box;\n",
              "  margin-bottom: 0.5em;\n",
              "  /* unfitted */\n",
              "  background-color: var(--sklearn-color-unfitted-level-0);\n",
              "}\n",
              "\n",
              "#sk-container-id-2 div.sk-estimator.fitted {\n",
              "  /* fitted */\n",
              "  background-color: var(--sklearn-color-fitted-level-0);\n",
              "}\n",
              "\n",
              "/* on hover */\n",
              "#sk-container-id-2 div.sk-estimator:hover {\n",
              "  /* unfitted */\n",
              "  background-color: var(--sklearn-color-unfitted-level-2);\n",
              "}\n",
              "\n",
              "#sk-container-id-2 div.sk-estimator.fitted:hover {\n",
              "  /* fitted */\n",
              "  background-color: var(--sklearn-color-fitted-level-2);\n",
              "}\n",
              "\n",
              "/* Specification for estimator info (e.g. \"i\" and \"?\") */\n",
              "\n",
              "/* Common style for \"i\" and \"?\" */\n",
              "\n",
              ".sk-estimator-doc-link,\n",
              "a:link.sk-estimator-doc-link,\n",
              "a:visited.sk-estimator-doc-link {\n",
              "  float: right;\n",
              "  font-size: smaller;\n",
              "  line-height: 1em;\n",
              "  font-family: monospace;\n",
              "  background-color: var(--sklearn-color-background);\n",
              "  border-radius: 1em;\n",
              "  height: 1em;\n",
              "  width: 1em;\n",
              "  text-decoration: none !important;\n",
              "  margin-left: 0.5em;\n",
              "  text-align: center;\n",
              "  /* unfitted */\n",
              "  border: var(--sklearn-color-unfitted-level-1) 1pt solid;\n",
              "  color: var(--sklearn-color-unfitted-level-1);\n",
              "}\n",
              "\n",
              ".sk-estimator-doc-link.fitted,\n",
              "a:link.sk-estimator-doc-link.fitted,\n",
              "a:visited.sk-estimator-doc-link.fitted {\n",
              "  /* fitted */\n",
              "  border: var(--sklearn-color-fitted-level-1) 1pt solid;\n",
              "  color: var(--sklearn-color-fitted-level-1);\n",
              "}\n",
              "\n",
              "/* On hover */\n",
              "div.sk-estimator:hover .sk-estimator-doc-link:hover,\n",
              ".sk-estimator-doc-link:hover,\n",
              "div.sk-label-container:hover .sk-estimator-doc-link:hover,\n",
              ".sk-estimator-doc-link:hover {\n",
              "  /* unfitted */\n",
              "  background-color: var(--sklearn-color-unfitted-level-3);\n",
              "  color: var(--sklearn-color-background);\n",
              "  text-decoration: none;\n",
              "}\n",
              "\n",
              "div.sk-estimator.fitted:hover .sk-estimator-doc-link.fitted:hover,\n",
              ".sk-estimator-doc-link.fitted:hover,\n",
              "div.sk-label-container:hover .sk-estimator-doc-link.fitted:hover,\n",
              ".sk-estimator-doc-link.fitted:hover {\n",
              "  /* fitted */\n",
              "  background-color: var(--sklearn-color-fitted-level-3);\n",
              "  color: var(--sklearn-color-background);\n",
              "  text-decoration: none;\n",
              "}\n",
              "\n",
              "/* Span, style for the box shown on hovering the info icon */\n",
              ".sk-estimator-doc-link span {\n",
              "  display: none;\n",
              "  z-index: 9999;\n",
              "  position: relative;\n",
              "  font-weight: normal;\n",
              "  right: .2ex;\n",
              "  padding: .5ex;\n",
              "  margin: .5ex;\n",
              "  width: min-content;\n",
              "  min-width: 20ex;\n",
              "  max-width: 50ex;\n",
              "  color: var(--sklearn-color-text);\n",
              "  box-shadow: 2pt 2pt 4pt #999;\n",
              "  /* unfitted */\n",
              "  background: var(--sklearn-color-unfitted-level-0);\n",
              "  border: .5pt solid var(--sklearn-color-unfitted-level-3);\n",
              "}\n",
              "\n",
              ".sk-estimator-doc-link.fitted span {\n",
              "  /* fitted */\n",
              "  background: var(--sklearn-color-fitted-level-0);\n",
              "  border: var(--sklearn-color-fitted-level-3);\n",
              "}\n",
              "\n",
              ".sk-estimator-doc-link:hover span {\n",
              "  display: block;\n",
              "}\n",
              "\n",
              "/* \"?\"-specific style due to the `<a>` HTML tag */\n",
              "\n",
              "#sk-container-id-2 a.estimator_doc_link {\n",
              "  float: right;\n",
              "  font-size: 1rem;\n",
              "  line-height: 1em;\n",
              "  font-family: monospace;\n",
              "  background-color: var(--sklearn-color-background);\n",
              "  border-radius: 1rem;\n",
              "  height: 1rem;\n",
              "  width: 1rem;\n",
              "  text-decoration: none;\n",
              "  /* unfitted */\n",
              "  color: var(--sklearn-color-unfitted-level-1);\n",
              "  border: var(--sklearn-color-unfitted-level-1) 1pt solid;\n",
              "}\n",
              "\n",
              "#sk-container-id-2 a.estimator_doc_link.fitted {\n",
              "  /* fitted */\n",
              "  border: var(--sklearn-color-fitted-level-1) 1pt solid;\n",
              "  color: var(--sklearn-color-fitted-level-1);\n",
              "}\n",
              "\n",
              "/* On hover */\n",
              "#sk-container-id-2 a.estimator_doc_link:hover {\n",
              "  /* unfitted */\n",
              "  background-color: var(--sklearn-color-unfitted-level-3);\n",
              "  color: var(--sklearn-color-background);\n",
              "  text-decoration: none;\n",
              "}\n",
              "\n",
              "#sk-container-id-2 a.estimator_doc_link.fitted:hover {\n",
              "  /* fitted */\n",
              "  background-color: var(--sklearn-color-fitted-level-3);\n",
              "}\n",
              "</style><div id=\"sk-container-id-2\" class=\"sk-top-container\"><div class=\"sk-text-repr-fallback\"><pre>XGBClassifier(base_score=None, booster=None, callbacks=None,\n",
              "              colsample_bylevel=None, colsample_bynode=None,\n",
              "              colsample_bytree=None, device=None, early_stopping_rounds=None,\n",
              "              enable_categorical=False, eval_metric=None, feature_types=None,\n",
              "              gamma=None, grow_policy=None, importance_type=None,\n",
              "              interaction_constraints=None, learning_rate=None, max_bin=None,\n",
              "              max_cat_threshold=None, max_cat_to_onehot=None,\n",
              "              max_delta_step=None, max_depth=10, max_leaves=None,\n",
              "              min_child_weight=None, min_samples_split=2, missing=nan,\n",
              "              monotone_constraints=None, multi_strategy=None, n_estimators=50,\n",
              "              n_jobs=None, num_parallel_tree=None, ...)</pre><b>In a Jupyter environment, please rerun this cell to show the HTML representation or trust the notebook. <br />On GitHub, the HTML representation is unable to render, please try loading this page with nbviewer.org.</b></div><div class=\"sk-container\" hidden><div class=\"sk-item\"><div class=\"sk-estimator fitted sk-toggleable\"><input class=\"sk-toggleable__control sk-hidden--visually\" id=\"sk-estimator-id-2\" type=\"checkbox\" checked><label for=\"sk-estimator-id-2\" class=\"sk-toggleable__label fitted sk-toggleable__label-arrow\"><div><div>XGBClassifier</div></div><div><span class=\"sk-estimator-doc-link fitted\">i<span>Fitted</span></span></div></label><div class=\"sk-toggleable__content fitted\"><pre>XGBClassifier(base_score=None, booster=None, callbacks=None,\n",
              "              colsample_bylevel=None, colsample_bynode=None,\n",
              "              colsample_bytree=None, device=None, early_stopping_rounds=None,\n",
              "              enable_categorical=False, eval_metric=None, feature_types=None,\n",
              "              gamma=None, grow_policy=None, importance_type=None,\n",
              "              interaction_constraints=None, learning_rate=None, max_bin=None,\n",
              "              max_cat_threshold=None, max_cat_to_onehot=None,\n",
              "              max_delta_step=None, max_depth=10, max_leaves=None,\n",
              "              min_child_weight=None, min_samples_split=2, missing=nan,\n",
              "              monotone_constraints=None, multi_strategy=None, n_estimators=50,\n",
              "              n_jobs=None, num_parallel_tree=None, ...)</pre></div> </div></div></div></div>"
            ]
          },
          "metadata": {},
          "execution_count": 33
        }
      ]
    },
    {
      "cell_type": "markdown",
      "source": [
        "# 5- Model Evaluation"
      ],
      "metadata": {
        "id": "XyJ_mqQf2Zuj"
      }
    },
    {
      "cell_type": "code",
      "source": [
        "from sklearn.metrics import classification_report, confusion_matrix\n",
        "\n",
        "# Make Predictions\n",
        "y_pred = best_model.predict(X_test)\n",
        "\n",
        "# Print Evaluation Metrics\n",
        "print(\"Classification Report:\\n\", classification_report(y_test, y_pred))\n",
        "print(\"Confusion Matrix:\\n\", confusion_matrix(y_test, y_pred))"
      ],
      "metadata": {
        "id": "1DuAB78y2fP_",
        "colab": {
          "base_uri": "https://localhost:8080/"
        },
        "outputId": "ea9f6e18-b491-4e33-a8c5-42402ed2588c"
      },
      "execution_count": null,
      "outputs": [
        {
          "output_type": "stream",
          "name": "stdout",
          "text": [
            "Classification Report:\n",
            "               precision    recall  f1-score   support\n",
            "\n",
            "           0       0.99      1.00      1.00       204\n",
            "           1       1.00      0.98      0.99       176\n",
            "           2       0.97      1.00      0.99       117\n",
            "           3       1.00      1.00      1.00        46\n",
            "           4       0.98      0.99      0.99       151\n",
            "           5       0.99      0.97      0.98       151\n",
            "           6       1.00      0.99      1.00       155\n",
            "\n",
            "    accuracy                           0.99      1000\n",
            "   macro avg       0.99      0.99      0.99      1000\n",
            "weighted avg       0.99      0.99      0.99      1000\n",
            "\n",
            "Confusion Matrix:\n",
            " [[204   0   0   0   0   0   0]\n",
            " [  2 172   2   0   0   0   0]\n",
            " [  0   0 117   0   0   0   0]\n",
            " [  0   0   0  46   0   0   0]\n",
            " [  0   0   0   0 150   1   0]\n",
            " [  0   0   1   0   3 147   0]\n",
            " [  0   0   0   0   0   1 154]]\n"
          ]
        }
      ]
    },
    {
      "cell_type": "code",
      "source": [
        "from sklearn.metrics import accuracy_score\n",
        "\n",
        "# Assume best_model is the trained XGBoost model from GridSearchCV\n",
        "# X_train_selected, X_test_selected, y_train_resampled, y_test are available\n",
        "\n",
        "# Compute training and test accuracy\n",
        "y_train_pred = best_model.predict(X_train)\n",
        "train_accuracy = accuracy_score(y_train, y_train_pred)\n",
        "y_test_pred = best_model.predict(X_test)\n",
        "test_accuracy = accuracy_score(y_test, y_test_pred)\n",
        "\n",
        "# Print results\n",
        "print(f\"\\nTraining Accuracy: {train_accuracy:.3f}\")\n",
        "print(f\"Test Accuracy: {test_accuracy:.3f}\")\n",
        "print(f\"Accuracy Gap (Training - Test): {(train_accuracy - test_accuracy):.3f}\")"
      ],
      "metadata": {
        "colab": {
          "base_uri": "https://localhost:8080/"
        },
        "id": "72FDES2fHm1R",
        "outputId": "9c853b99-38d9-47c7-aeb5-bdd15bb2c4c6"
      },
      "execution_count": null,
      "outputs": [
        {
          "output_type": "stream",
          "name": "stdout",
          "text": [
            "\n",
            "Training Accuracy: 0.999\n",
            "Test Accuracy: 0.990\n",
            "Accuracy Gap (Training - Test): 0.009\n"
          ]
        }
      ]
    },
    {
      "cell_type": "markdown",
      "source": [
        "**Test on New Data**"
      ],
      "metadata": {
        "id": "C2DZxhwk2iC8"
      }
    },
    {
      "cell_type": "code",
      "source": [
        "# Convert predictions back to original categories\n",
        "predicted_categories = strategy_encoder.inverse_transform(y_pred)  # De-encode the whole array\n",
        "\n",
        "\n",
        "# Test on a new sample and de-encode\n",
        "new_sample = X_test.iloc[0].values.reshape(1, -1)\n",
        "predicted_category = best_model.predict(new_sample)\n",
        "predicted_category_decoded = strategy_encoder.inverse_transform(predicted_category)\n",
        "\n",
        "print(\"Predicted Strategy Category for the new sample:\", predicted_category_decoded[0])"
      ],
      "metadata": {
        "id": "Sfjfl_KG2jYt",
        "colab": {
          "base_uri": "https://localhost:8080/"
        },
        "outputId": "b04e4870-81ce-4a01-c11f-9c9dcd26a212"
      },
      "execution_count": null,
      "outputs": [
        {
          "output_type": "stream",
          "name": "stdout",
          "text": [
            "Predicted Strategy Category for the new sample: Social Media Marketing\n"
          ]
        }
      ]
    },
    {
      "cell_type": "code",
      "source": [
        "import xgboost as xgb\n",
        "import pickle\n",
        "\n",
        "# Assuming best_model is your trained XGBClassifier from FinalML.ipynb\n",
        "# Save the XGBoost model to a file\n",
        "best_model.save_model('xgboost_strategy_model.json')\n",
        "# Save the strategy_encoder (LabelEncoder for Strategy Category)\n",
        "with open('strategy_encoder.pkl', 'wb') as f:\n",
        "    pickle.dump(strategy_encoder, f)\n",
        "\n",
        "# Save the label_encoders (dictionary of LabelEncoder for features)\n",
        "with open('label_encoders.pkl', 'wb') as f:\n",
        "    pickle.dump(label_encoders, f)\n",
        "\n",
        "print(\"Model and encoders saved successfully!\")"
      ],
      "metadata": {
        "colab": {
          "base_uri": "https://localhost:8080/"
        },
        "id": "EE7GZcPl9fsZ",
        "outputId": "2a3e94c6-d109-4250-ce79-5fa18162ae8e"
      },
      "execution_count": null,
      "outputs": [
        {
          "output_type": "stream",
          "name": "stdout",
          "text": [
            "Model and encoders saved successfully!\n"
          ]
        }
      ]
    }
  ]
}