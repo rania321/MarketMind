{
 "cells": [
  {
   "cell_type": "code",
   "execution_count": 2,
   "id": "2a7d378c-2c33-4474-a869-4c38572c0632",
   "metadata": {},
   "outputs": [
    {
     "name": "stdout",
     "output_type": "stream",
     "text": [
      "Fusion terminée. 5000 entrées enregistrées dans 'dataReview.csv'.\n",
      "\n",
      "Informations sur les données combinées :\n",
      "<class 'pandas.core.frame.DataFrame'>\n",
      "RangeIndex: 5000 entries, 0 to 4999\n",
      "Data columns (total 5 columns):\n",
      " #   Column      Non-Null Count  Dtype  \n",
      "---  ------      --------------  -----  \n",
      " 0   asin        5000 non-null   object \n",
      " 1   reviewText  5000 non-null   object \n",
      " 2   overall     5000 non-null   float64\n",
      " 3   category    5000 non-null   object \n",
      " 4   summary     5000 non-null   object \n",
      "dtypes: float64(1), object(4)\n",
      "memory usage: 195.4+ KB\n",
      "None\n",
      "\n",
      "Aperçu des données :\n",
      "         asin                                         reviewText  overall  \\\n",
      "0  B000GLRREU  While this Waterpik is not a total alternative...      5.0   \n",
      "1  B000FI4S1E  very masculine smell, perfect for camping or f...      5.0   \n",
      "2  B000URXP6E  I love this hard to find lotion/fragrance, as ...      5.0   \n",
      "3  B0009RF9DW  I only use this in the winter as the beautiful...      5.0   \n",
      "4  B01BNEYGQU  Colgate is my favorite brand of toothpaste.  I...      4.0   \n",
      "\n",
      "       category                                       summary  \n",
      "0  All_Beauty_5                       A must have for braces!  \n",
      "1  All_Beauty_5                                hair body wash  \n",
      "2  All_Beauty_5                           Escada Moon Sparkle  \n",
      "3  All_Beauty_5                              Wonderful stuff.  \n",
      "4  All_Beauty_5  Offers Many Benefits For Growing Adult Teeth  \n"
     ]
    }
   ],
   "source": [
    "import pandas as pd\n",
    "import os\n",
    "import glob\n",
    "import random\n",
    "\n",
    "# Spécifie le dossier contenant les fichiers CSV\n",
    "chemin_dossier = \"data\"  # Remplace par ton chemin réel\n",
    "\n",
    "# Liste tous les fichiers CSV dans le dossier\n",
    "fichiers_csv = glob.glob(os.path.join(chemin_dossier, \"*.csv\"))\n",
    "\n",
    "# Vérifie si des fichiers ont été trouvés\n",
    "if not fichiers_csv:\n",
    "    print(\"Aucun fichier CSV trouvé dans le dossier.\")\n",
    "else:\n",
    "    total_entries = 5000  # Le total désiré après combinaison\n",
    "    entries_per_file = []  # Liste pour stocker combien de lignes prendre par fichier\n",
    "\n",
    "    # Calculer le nombre d'entrées par fichier\n",
    "    total_rows_in_files = 0\n",
    "    for fichier in fichiers_csv:\n",
    "        total_rows_in_files += len(pd.read_csv(fichier))\n",
    "    \n",
    "    remaining_entries = total_entries\n",
    "\n",
    "    for fichier in fichiers_csv:\n",
    "        rows_in_file = len(pd.read_csv(fichier))\n",
    "        # Calculer combien de lignes prendre par fichier\n",
    "        rows_to_take = max(min(rows_in_file, 1000), 500)  # Limite à entre 2000 et 4500 lignes\n",
    "        entries_per_file.append(rows_to_take)\n",
    "        remaining_entries -= rows_to_take\n",
    "\n",
    "    # Combiner les fichiers avec l'échantillonnage approprié\n",
    "    df_combined = pd.DataFrame()\n",
    "    for i, fichier in enumerate(fichiers_csv):\n",
    "        df = pd.read_csv(fichier)\n",
    "        # Prendre un échantillon des lignes selon l'entrée calculée\n",
    "        df_sampled = df.sample(n=entries_per_file[i], random_state=42)\n",
    "        df_combined = pd.concat([df_combined, df_sampled], ignore_index=True)\n",
    "\n",
    "    # Sauvegarder le fichier combiné sous le nom \"dataReview.csv\"\n",
    "    fichier_combine = os.path.join(chemin_dossier, \"dataReview.csv\")\n",
    "    df_combined.to_csv(fichier_combine, index=False)\n",
    "    \n",
    "    print(f\"Fusion terminée. {len(df_combined)} entrées enregistrées dans 'dataReview.csv'.\")\n",
    "\n",
    "    # Charger les données combinées\n",
    "    df_imported = pd.read_csv(fichier_combine)\n",
    "\n",
    "    # Afficher les informations générales du DataFrame\n",
    "    print(\"\\nInformations sur les données combinées :\")\n",
    "    print(df_imported.info())\n",
    "\n",
    "    # Aperçu des premières lignes\n",
    "    print(\"\\nAperçu des données :\")\n",
    "    print(df_imported.head())\n"
   ]
  },
  {
   "cell_type": "code",
   "execution_count": 4,
   "id": "7e583110-a692-469b-9854-baf10e9ce20e",
   "metadata": {},
   "outputs": [
    {
     "name": "stdout",
     "output_type": "stream",
     "text": [
      "<class 'pandas.core.frame.DataFrame'>\n",
      "RangeIndex: 5000 entries, 0 to 4999\n",
      "Data columns (total 5 columns):\n",
      " #   Column      Non-Null Count  Dtype  \n",
      "---  ------      --------------  -----  \n",
      " 0   asin        5000 non-null   object \n",
      " 1   reviewText  5000 non-null   object \n",
      " 2   overall     5000 non-null   float64\n",
      " 3   category    5000 non-null   object \n",
      " 4   summary     5000 non-null   object \n",
      "dtypes: float64(1), object(4)\n",
      "memory usage: 195.4+ KB\n"
     ]
    }
   ],
   "source": [
    "df_imported.info()"
   ]
  },
  {
   "cell_type": "code",
   "execution_count": null,
   "id": "7b377fa4-3016-469c-8d48-e8b04e89aed2",
   "metadata": {},
   "outputs": [],
   "source": []
  }
 ],
 "metadata": {
  "kernelspec": {
   "display_name": "Python 3 (ipykernel)",
   "language": "python",
   "name": "python3"
  },
  "language_info": {
   "codemirror_mode": {
    "name": "ipython",
    "version": 3
   },
   "file_extension": ".py",
   "mimetype": "text/x-python",
   "name": "python",
   "nbconvert_exporter": "python",
   "pygments_lexer": "ipython3",
   "version": "3.12.4"
  }
 },
 "nbformat": 4,
 "nbformat_minor": 5
}
