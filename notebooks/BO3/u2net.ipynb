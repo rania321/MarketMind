{
  "nbformat": 4,
  "nbformat_minor": 0,
  "metadata": {
    "colab": {
      "provenance": []
    },
    "kernelspec": {
      "name": "python3",
      "display_name": "Python 3"
    },
    "language_info": {
      "name": "python"
    }
  },
  "cells": [
    {
      "cell_type": "code",
      "source": [
        "!git clone https://github.com/xuebinqin/U-2-Net.git\n",
        "%cd U-2-Net"
      ],
      "metadata": {
        "colab": {
          "base_uri": "https://localhost:8080/"
        },
        "id": "6GIL-xNZMLD9",
        "outputId": "ab9e78f5-9b2c-4dd0-dfde-1a3a14725088"
      },
      "execution_count": null,
      "outputs": [
        {
          "output_type": "stream",
          "name": "stdout",
          "text": [
            "Cloning into 'U-2-Net'...\n",
            "remote: Enumerating objects: 1077, done.\u001b[K\n",
            "remote: Counting objects: 100% (422/422), done.\u001b[K\n",
            "remote: Compressing objects: 100% (42/42), done.\u001b[K\n",
            "remote: Total 1077 (delta 398), reused 380 (delta 380), pack-reused 655 (from 2)\u001b[K\n",
            "Receiving objects: 100% (1077/1077), 66.95 MiB | 32.58 MiB/s, done.\n",
            "Resolving deltas: 100% (536/536), done.\n",
            "/content/U-2-Net\n"
          ]
        }
      ]
    },
    {
      "cell_type": "code",
      "source": [
        "!mkdir -p test_data/images/input"
      ],
      "metadata": {
        "id": "cDT498fWOO5P"
      },
      "execution_count": null,
      "outputs": []
    },
    {
      "cell_type": "code",
      "source": [
        "import os\n",
        "from skimage import io, transform\n",
        "import torch\n",
        "import torchvision\n",
        "from torch.autograd import Variable\n",
        "import torch.nn as nn\n",
        "import torch.nn.functional as F\n",
        "from torch.utils.data import Dataset, DataLoader\n",
        "from torchvision import transforms#, utils\n",
        "# import torch.optim as optim\n",
        "\n",
        "import numpy as np\n",
        "from PIL import Image\n",
        "import glob\n",
        "\n",
        "from data_loader import RescaleT\n",
        "from data_loader import ToTensor\n",
        "from data_loader import ToTensorLab\n",
        "from data_loader import SalObjDataset\n",
        "\n",
        "from model import U2NET # full size version 173.6 MB\n",
        "from model import U2NETP # small version u2net 4.7 MB\n",
        "\n",
        "# normalize the predicted SOD probability map\n",
        "def normPRED(d):\n",
        "    ma = torch.max(d)\n",
        "    mi = torch.min(d)\n",
        "\n",
        "    dn = (d-mi)/(ma-mi)\n",
        "\n",
        "    return dn\n",
        "\n",
        "def save_output(image_name,pred,d_dir):\n",
        "\n",
        "    predict = pred\n",
        "    predict = predict.squeeze()\n",
        "    predict_np = predict.cpu().data.numpy()\n",
        "\n",
        "    im = Image.fromarray(predict_np*255).convert('RGB')\n",
        "    img_name = image_name.split(os.sep)[-1]\n",
        "    image = io.imread(image_name)\n",
        "    imo = im.resize((image.shape[1],image.shape[0]),resample=Image.BILINEAR)\n",
        "\n",
        "    pb_np = np.array(imo)\n",
        "\n",
        "    aaa = img_name.split(\".\")\n",
        "    bbb = aaa[0:-1]\n",
        "    imidx = bbb[0]\n",
        "    for i in range(1,len(bbb)):\n",
        "        imidx = imidx + \".\" + bbb[i]\n",
        "\n",
        "    imo.save(d_dir+imidx+'.png')\n",
        "\n",
        "def main():\n",
        "\n",
        "    # --------- 1. get image path and name ---------\n",
        "    model_name='u2net'#u2netp\n",
        "\n",
        "\n",
        "\n",
        "    image_dir=os.path.join(os.getcwd(),'test_data','images','input')\n",
        "    prediction_dir=os.path.join(os.getcwd(),'test_data','images',model_name+'_results'+os.sep)\n",
        "    model_dir = os.path.join(os.getcwd(),'saved_models',model_name,model_name+'.pth')\n",
        "\n",
        "    img_name_list = glob.glob(image_dir + os.sep + '*')\n",
        "    print(img_name_list)\n",
        "\n",
        "    # --------- 2. dataloader ---------\n",
        "    #1. dataloader\n",
        "    test_salobj_dataset = SalObjDataset(img_name_list = img_name_list,\n",
        "                                        lbl_name_list = [],\n",
        "                                        transform=transforms.Compose([RescaleT(320),\n",
        "                                                                      ToTensorLab(flag=0)])\n",
        "                                        )\n",
        "    test_salobj_dataloader = DataLoader(test_salobj_dataset,\n",
        "                                        batch_size=1,\n",
        "                                        shuffle=False,\n",
        "                                        num_workers=1)\n",
        "\n",
        "    # --------- 3. model define ---------\n",
        "    if(model_name=='u2net'):\n",
        "        print(\"...load U2NET---173.6 MB\")\n",
        "        net = U2NET(3,1)\n",
        "    elif(model_name=='u2netp'):\n",
        "        print(\"...load U2NEP---4.7 MB\")\n",
        "        net = U2NETP(3,1)\n",
        "    if torch.cuda.is_available():\n",
        "        net.load_state_dict(torch.load(model_dir))\n",
        "        net.cuda()\n",
        "    else:\n",
        "        net.load_state_dict(torch.load(model_dir, map_location='cpu'))\n",
        "    net.eval()\n",
        "\n",
        "    # --------- 4. inference for each image ---------\n",
        "    for i_test, data_test in enumerate(test_salobj_dataloader):\n",
        "\n",
        "        print(\"inferencing:\",img_name_list[i_test].split(os.sep)[-1])\n",
        "\n",
        "        inputs_test = data_test['image']\n",
        "        inputs_test = inputs_test.type(torch.FloatTensor)\n",
        "\n",
        "        if torch.cuda.is_available():\n",
        "            inputs_test = Variable(inputs_test.cuda())\n",
        "        else:\n",
        "            inputs_test = Variable(inputs_test)\n",
        "\n",
        "        d1,d2,d3,d4,d5,d6,d7= net(inputs_test)\n",
        "\n",
        "        # normalization\n",
        "        pred = d1[:,0,:,:]\n",
        "        pred = normPRED(pred)\n",
        "\n",
        "        # save results to test_results folder\n",
        "        if not os.path.exists(prediction_dir):\n",
        "            os.makedirs(prediction_dir, exist_ok=True)\n",
        "        save_output(img_name_list[i_test],pred,prediction_dir)\n",
        "\n",
        "        del d1,d2,d3,d4,d5,d6,d7\n",
        "\n",
        "if __name__ == \"__main__\":\n",
        "    main()\n"
      ],
      "metadata": {
        "colab": {
          "base_uri": "https://localhost:8080/"
        },
        "id": "_B6v_-OrPMci",
        "outputId": "8de87369-54b8-4fe0-a3b9-101f1ecd1425"
      },
      "execution_count": null,
      "outputs": [
        {
          "output_type": "stream",
          "name": "stdout",
          "text": [
            "['/content/U-2-Net/test_data/images/input/golden.jpg', '/content/U-2-Net/test_data/images/input/dabouza.jpg', '/content/U-2-Net/test_data/images/input/other-cup.jpeg', '/content/U-2-Net/test_data/images/input/produit.jpeg', '/content/U-2-Net/test_data/images/input/aminee.jpg']\n",
            "...load U2NET---173.6 MB\n",
            "inferencing: golden.jpg\n"
          ]
        },
        {
          "output_type": "stream",
          "name": "stderr",
          "text": [
            "/content/U-2-Net/model/u2net.py:23: UserWarning: `nn.functional.upsample` is deprecated. Use `nn.functional.interpolate` instead.\n",
            "  src = F.upsample(src,size=tar.shape[2:],mode='bilinear')\n"
          ]
        },
        {
          "output_type": "stream",
          "name": "stdout",
          "text": [
            "inferencing: dabouza.jpg\n"
          ]
        },
        {
          "output_type": "stream",
          "name": "stderr",
          "text": [
            "/content/U-2-Net/model/u2net.py:23: UserWarning: `nn.functional.upsample` is deprecated. Use `nn.functional.interpolate` instead.\n",
            "  src = F.upsample(src,size=tar.shape[2:],mode='bilinear')\n"
          ]
        },
        {
          "output_type": "stream",
          "name": "stdout",
          "text": [
            "inferencing: other-cup.jpeg\n"
          ]
        },
        {
          "output_type": "stream",
          "name": "stderr",
          "text": [
            "/content/U-2-Net/model/u2net.py:23: UserWarning: `nn.functional.upsample` is deprecated. Use `nn.functional.interpolate` instead.\n",
            "  src = F.upsample(src,size=tar.shape[2:],mode='bilinear')\n"
          ]
        },
        {
          "output_type": "stream",
          "name": "stdout",
          "text": [
            "inferencing: produit.jpeg\n"
          ]
        },
        {
          "output_type": "stream",
          "name": "stderr",
          "text": [
            "/content/U-2-Net/model/u2net.py:23: UserWarning: `nn.functional.upsample` is deprecated. Use `nn.functional.interpolate` instead.\n",
            "  src = F.upsample(src,size=tar.shape[2:],mode='bilinear')\n"
          ]
        },
        {
          "output_type": "stream",
          "name": "stdout",
          "text": [
            "inferencing: aminee.jpg\n"
          ]
        },
        {
          "output_type": "stream",
          "name": "stderr",
          "text": [
            "/content/U-2-Net/model/u2net.py:23: UserWarning: `nn.functional.upsample` is deprecated. Use `nn.functional.interpolate` instead.\n",
            "  src = F.upsample(src,size=tar.shape[2:],mode='bilinear')\n"
          ]
        }
      ]
    },
    {
      "cell_type": "code",
      "source": [],
      "metadata": {
        "id": "KM1IrBEqPM3-"
      },
      "execution_count": null,
      "outputs": []
    }
  ]
}